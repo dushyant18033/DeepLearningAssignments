{
  "nbformat": 4,
  "nbformat_minor": 0,
  "metadata": {
    "colab": {
      "name": "DL-A3-Part2.ipynb",
      "provenance": [],
      "collapsed_sections": []
    },
    "kernelspec": {
      "name": "python3",
      "display_name": "Python 3"
    },
    "language_info": {
      "name": "python"
    },
    "accelerator": "GPU"
  },
  "cells": [
    {
      "cell_type": "code",
      "metadata": {
        "id": "AzetNAzOhdWo",
        "colab": {
          "base_uri": "https://localhost:8080/"
        },
        "outputId": "17e54a34-4396-4bb7-d081-d4ca1c38e10c"
      },
      "source": [
        "from google.colab import drive\n",
        "drive.mount('/content/drive')"
      ],
      "execution_count": 3,
      "outputs": [
        {
          "output_type": "stream",
          "text": [
            "Mounted at /content/drive\n"
          ],
          "name": "stdout"
        }
      ]
    },
    {
      "cell_type": "code",
      "metadata": {
        "colab": {
          "base_uri": "https://localhost:8080/"
        },
        "id": "q0S08lL6Mk0i",
        "outputId": "fdb14328-808a-474a-8932-9f0c0a000d8f"
      },
      "source": [
        "import nltk\n",
        "nltk.download('punkt')"
      ],
      "execution_count": 4,
      "outputs": [
        {
          "output_type": "stream",
          "text": [
            "[nltk_data] Downloading package punkt to /root/nltk_data...\n",
            "[nltk_data]   Unzipping tokenizers/punkt.zip.\n"
          ],
          "name": "stdout"
        },
        {
          "output_type": "execute_result",
          "data": {
            "text/plain": [
              "True"
            ]
          },
          "metadata": {
            "tags": []
          },
          "execution_count": 4
        }
      ]
    },
    {
      "cell_type": "code",
      "metadata": {
        "id": "djxIwBgbILFt"
      },
      "source": [
        "import numpy as np\n",
        "import pandas as pd\n",
        "import torch\n",
        "import torch.nn as nn\n",
        "import torch.nn.functional as F\n",
        "from torch.utils.data import Dataset, DataLoader"
      ],
      "execution_count": 5,
      "outputs": []
    },
    {
      "cell_type": "markdown",
      "metadata": {
        "id": "NRr3Md65V2oj"
      },
      "source": [
        "## HYPERPARAMETERS"
      ]
    },
    {
      "cell_type": "code",
      "metadata": {
        "id": "6yYcHw7NRXDq"
      },
      "source": [
        "num_epochs = 100\n",
        "batch_size = 64\n",
        "glove_dim = 300\n",
        "n_filters = 100"
      ],
      "execution_count": 6,
      "outputs": []
    },
    {
      "cell_type": "markdown",
      "metadata": {
        "id": "deNYMvFy5rBz"
      },
      "source": [
        "## PREPROCESSING"
      ]
    },
    {
      "cell_type": "code",
      "metadata": {
        "id": "PT0BWlKgAsnX"
      },
      "source": [
        "f = open(\"/content/drive/MyDrive/DL_A3/Trec_Train_dataset.txt\",\"r\", encoding = \"ISO-8859-1\")\n",
        "X = []\n",
        "y = []\n",
        "\n",
        "for line in f.readlines():\n",
        "  ind = line.find(':')\n",
        "  y_ = line[:ind]\n",
        "  x_ = line[ind:]\n",
        "  x_ = \" \".join(x_.split()[1:])\n",
        "  X.append(x_)\n",
        "  y.append(y_)"
      ],
      "execution_count": 7,
      "outputs": []
    },
    {
      "cell_type": "code",
      "metadata": {
        "id": "iVDkSKJj4hor",
        "colab": {
          "base_uri": "https://localhost:8080/"
        },
        "outputId": "1dd77037-35c9-449e-f514-2d5a60c87e4e"
      },
      "source": [
        "labels_ = np.unique(y).tolist()\n",
        "y_processed = []\n",
        "for label in y:\n",
        "  y_processed.append(labels_.index(label))\n",
        "y_processed = np.array(y_processed).astype(np.long)\n",
        "y_processed"
      ],
      "execution_count": 8,
      "outputs": [
        {
          "output_type": "execute_result",
          "data": {
            "text/plain": [
              "array([1, 2, 1, ..., 5, 5, 2])"
            ]
          },
          "metadata": {
            "tags": []
          },
          "execution_count": 8
        }
      ]
    },
    {
      "cell_type": "code",
      "metadata": {
        "colab": {
          "base_uri": "https://localhost:8080/"
        },
        "id": "RTVHQvolwZfn",
        "outputId": "ce85e3eb-21ee-4ebe-9beb-acb5080276f9"
      },
      "source": [
        "print(labels_)"
      ],
      "execution_count": 9,
      "outputs": [
        {
          "output_type": "stream",
          "text": [
            "['ABBR', 'DESC', 'ENTY', 'HUM', 'LOC', 'NUM']\n"
          ],
          "name": "stdout"
        }
      ]
    },
    {
      "cell_type": "markdown",
      "metadata": {
        "id": "kRD5WE9mmQ3L"
      },
      "source": [
        "### GLOVE EMBEDDINGS/"
      ]
    },
    {
      "cell_type": "code",
      "metadata": {
        "id": "qxfAF2IZFt4P"
      },
      "source": [
        "import torch\n",
        "import torchtext\n",
        "\n",
        "glove = torchtext.vocab.GloVe(name=\"840B\",dim=glove_dim, cache=\"/content/drive/MyDrive/DL_A3/vectors_cache\")"
      ],
      "execution_count": null,
      "outputs": []
    },
    {
      "cell_type": "code",
      "metadata": {
        "id": "RaTUomVHmYB-"
      },
      "source": [
        "from nltk.tokenize import word_tokenize\n",
        "from collections import defaultdict"
      ],
      "execution_count": null,
      "outputs": []
    },
    {
      "cell_type": "code",
      "metadata": {
        "id": "uMaH_Y2fI88Q"
      },
      "source": [
        "def get_tokens(arr):\n",
        "  max_len=0\n",
        "  tokenized=[]\n",
        "  \n",
        "  for text in arr:\n",
        "    token=word_tokenize(text)\n",
        "    tokenized.append(token)\n",
        "    max_len=max(max_len,len(token))\n",
        "\n",
        "  return tokenized, max_len"
      ],
      "execution_count": null,
      "outputs": []
    },
    {
      "cell_type": "code",
      "metadata": {
        "id": "KNT91QjuUQjN"
      },
      "source": [
        "def get_embedding_matrix(tokens, max_len):\n",
        "  embedded = []\n",
        "  for word in tokens:\n",
        "    embedded.append(glove[word])\n",
        "  \n",
        "  for i in range(max_len-len(tokens)):\n",
        "    embedded.append(glove[\"<x>\"].numpy())\n",
        "  return np.stack(embedded)"
      ],
      "execution_count": null,
      "outputs": []
    },
    {
      "cell_type": "code",
      "metadata": {
        "id": "5CiLVrXzgFnD"
      },
      "source": [
        ""
      ],
      "execution_count": null,
      "outputs": []
    },
    {
      "cell_type": "code",
      "metadata": {
        "id": "LjLGwcE3U3Go",
        "colab": {
          "base_uri": "https://localhost:8080/"
        },
        "outputId": "cb12f5b9-ae6e-4579-b113-7250202a092c"
      },
      "source": [
        "tokenized, max_len = get_tokens(X)\n",
        "print(max_len)"
      ],
      "execution_count": null,
      "outputs": [
        {
          "output_type": "stream",
          "text": [
            "37\n"
          ],
          "name": "stdout"
        }
      ]
    },
    {
      "cell_type": "code",
      "metadata": {
        "colab": {
          "base_uri": "https://localhost:8080/"
        },
        "id": "mmxa7FWHVBIh",
        "outputId": "853c640c-c80b-4da1-a152-a3f3f10b7a29"
      },
      "source": [
        "X_processed = []\n",
        "for tokens in tokenized:\n",
        "  X_processed.append(get_embedding_matrix(tokens, max_len))\n",
        "\n",
        "X_processed = np.stack(X_processed).reshape(-1,1,max_len,glove_dim)\n",
        "X_processed.shape"
      ],
      "execution_count": null,
      "outputs": [
        {
          "output_type": "execute_result",
          "data": {
            "text/plain": [
              "(5452, 1, 37, 300)"
            ]
          },
          "metadata": {
            "tags": []
          },
          "execution_count": 12
        }
      ]
    },
    {
      "cell_type": "code",
      "metadata": {
        "id": "l-xlWZa2V-uX"
      },
      "source": [
        "from sklearn.model_selection import train_test_split\n",
        "X_train, X_test, y_train, y_test = train_test_split(X_processed, y_processed, test_size=0.2, stratify=y, random_state=42)"
      ],
      "execution_count": null,
      "outputs": []
    },
    {
      "cell_type": "code",
      "metadata": {
        "colab": {
          "base_uri": "https://localhost:8080/"
        },
        "id": "xEr0_3UyXmou",
        "outputId": "14ef9370-f24f-47e6-a2db-5d63e77448ac"
      },
      "source": [
        "type(X_train),type(y_train)"
      ],
      "execution_count": null,
      "outputs": [
        {
          "output_type": "execute_result",
          "data": {
            "text/plain": [
              "(numpy.ndarray, numpy.ndarray)"
            ]
          },
          "metadata": {
            "tags": []
          },
          "execution_count": 14
        }
      ]
    },
    {
      "cell_type": "markdown",
      "metadata": {
        "id": "JYJAUrM-NR7X"
      },
      "source": [
        "## DATASET LOADER"
      ]
    },
    {
      "cell_type": "code",
      "metadata": {
        "id": "cH2G6VmFKw_3"
      },
      "source": [
        "class TRECDataset(Dataset):\n",
        "  def __init__(self, X, y):\n",
        "    self.n_samples = X.shape[0]\n",
        "    self.x_data = torch.from_numpy(X)   # size [n_samples, n_features]\n",
        "    self.y_data = torch.from_numpy(y)   # size [n_samples, 1]\n",
        "\n",
        "  def __getitem__(self, index):\n",
        "    return self.x_data[index], self.y_data[index]\n",
        "\n",
        "  def __len__(self):\n",
        "    return self.n_samples"
      ],
      "execution_count": null,
      "outputs": []
    },
    {
      "cell_type": "code",
      "metadata": {
        "id": "QWlUqwp8MBcX"
      },
      "source": [
        "train_dataset = TRECDataset(X_train, y_train)\n",
        "test_dataset = TRECDataset(X_test, y_test)\n",
        "\n",
        "train_loader = torch.utils.data.DataLoader(dataset=train_dataset, batch_size=batch_size, shuffle=True)\n",
        "test_loader = torch.utils.data.DataLoader(dataset=test_dataset, batch_size=batch_size, shuffle=False)"
      ],
      "execution_count": null,
      "outputs": []
    },
    {
      "cell_type": "code",
      "metadata": {
        "id": "sSYku9L8ZrmS"
      },
      "source": [
        ""
      ],
      "execution_count": null,
      "outputs": []
    },
    {
      "cell_type": "code",
      "metadata": {
        "id": "Ge9BiyrFYZ_9"
      },
      "source": [
        "# x = train_dataset[:5][0]\n",
        "# (nn.Conv2d(1, 100, kernel_size=(3,glove_dim))(x)).shape"
      ],
      "execution_count": null,
      "outputs": []
    },
    {
      "cell_type": "code",
      "metadata": {
        "id": "ySQpsus_GQh2"
      },
      "source": [
        "# x = train_dataset[:5][0]\n",
        "# a = nn.Conv2d(1, 100, kernel_size=(3,glove_dim))(x)\n",
        "\n",
        "# m = nn.AdaptiveMaxPool1d(1)\n",
        "# a = m(a.reshape(5,100,35)).reshape(-1,100)"
      ],
      "execution_count": null,
      "outputs": []
    },
    {
      "cell_type": "code",
      "metadata": {
        "id": "IRl8JzYgGPZ7"
      },
      "source": [
        "# x = train_dataset[:5][0]\n",
        "# b = nn.Conv2d(1, 100, kernel_size=(4,glove_dim))(x)\n",
        "\n",
        "# m = nn.AdaptiveMaxPool1d(1)\n",
        "# b = m(b.reshape(5,100,34)).reshape(-1,100)"
      ],
      "execution_count": null,
      "outputs": []
    },
    {
      "cell_type": "code",
      "metadata": {
        "id": "5p7Rz2t_TlwX"
      },
      "source": [
        "# torch.cat((a,b), dim=1).shape"
      ],
      "execution_count": null,
      "outputs": []
    },
    {
      "cell_type": "markdown",
      "metadata": {
        "id": "cBJktIR4Nr0Q"
      },
      "source": [
        "## NEURAL NETWORK"
      ]
    },
    {
      "cell_type": "code",
      "metadata": {
        "id": "hbzfHqDbHKvq"
      },
      "source": [
        "class CNN(nn.Module):\n",
        "  \n",
        "  def __init__(self, glove_dim, n_filters=100):\n",
        "    super(CNN, self).__init__()\n",
        "    \n",
        "    self.m1 = nn.AdaptiveMaxPool1d(1)\n",
        "    self.m2 = nn.AdaptiveMaxPool1d(1)\n",
        "    self.m3 = nn.AdaptiveMaxPool1d(1)\n",
        "\n",
        "    self.n_filters = n_filters\n",
        "\n",
        "    self.conv1 = nn.Sequential(\n",
        "        nn.Conv2d(1, n_filters, kernel_size=(3,glove_dim)),\n",
        "        nn.BatchNorm2d(n_filters),\n",
        "        nn.ReLU(inplace=True),\n",
        "        nn.Dropout2d(p=0.5),\n",
        "    )\n",
        "\n",
        "    self.conv2 = nn.Sequential(\n",
        "        nn.Conv2d(1, n_filters, kernel_size=(4,glove_dim)),\n",
        "        nn.BatchNorm2d(n_filters),\n",
        "        nn.ReLU(inplace=True),\n",
        "        nn.Dropout2d(p=0.5),\n",
        "    )\n",
        "\n",
        "    self.conv3 = nn.Sequential(\n",
        "        nn.Conv2d(1, n_filters, kernel_size=(5,glove_dim)),\n",
        "        nn.BatchNorm2d(n_filters),\n",
        "        nn.ReLU(inplace=True),\n",
        "        nn.Dropout2d(p=0.5),\n",
        "    )\n",
        "    \n",
        "    self.classifier = nn.Sequential(\n",
        "        nn.Linear(3*n_filters, 6),\n",
        "\n",
        "        nn.Dropout2d(p=0.5),\n",
        "    )\n",
        "  \n",
        "  def forward(self, x):\n",
        "\n",
        "    a = self.conv1(x)\n",
        "    a = a.view(a.size()[0],a.size()[1],a.size()[2])\n",
        "    a = self.m1(a).view(-1, self.n_filters)\n",
        "\n",
        "    b = self.conv2(x)\n",
        "    b = b.view(b.size()[0],b.size()[1],b.size()[2])\n",
        "    b = self.m2(b).view(-1, self.n_filters)\n",
        "\n",
        "    c = self.conv3(x)\n",
        "    c = c.view(c.size()[0],c.size()[1],c.size()[2])\n",
        "    c = self.m3(c).view(-1, self.n_filters)\n",
        "\n",
        "    z = torch.cat((a,b,c), dim=1)\n",
        "    out = self.classifier(z)\n",
        "\n",
        "    return out"
      ],
      "execution_count": null,
      "outputs": []
    },
    {
      "cell_type": "code",
      "metadata": {
        "id": "gCe2qRFsNPDm"
      },
      "source": [
        "device = torch.device('cuda' if torch.cuda.is_available() else 'cpu')\n",
        "\n",
        "model = CNN(glove_dim, n_filters).to(device)\n",
        "criterion = nn.CrossEntropyLoss()\n",
        "optimizer = torch.optim.Adam(model.parameters(), weight_decay=3e-3)"
      ],
      "execution_count": null,
      "outputs": []
    },
    {
      "cell_type": "code",
      "metadata": {
        "colab": {
          "base_uri": "https://localhost:8080/"
        },
        "id": "1kJ4PhrVkZc3",
        "outputId": "fc08228c-a611-49f8-e5a3-883956ae5c71"
      },
      "source": [
        "model"
      ],
      "execution_count": null,
      "outputs": [
        {
          "output_type": "execute_result",
          "data": {
            "text/plain": [
              "CNN(\n",
              "  (m1): AdaptiveMaxPool1d(output_size=1)\n",
              "  (m2): AdaptiveMaxPool1d(output_size=1)\n",
              "  (m3): AdaptiveMaxPool1d(output_size=1)\n",
              "  (conv1): Sequential(\n",
              "    (0): Conv2d(1, 100, kernel_size=(3, 300), stride=(1, 1))\n",
              "    (1): BatchNorm2d(100, eps=1e-05, momentum=0.1, affine=True, track_running_stats=True)\n",
              "    (2): ReLU(inplace=True)\n",
              "    (3): Dropout2d(p=0.5, inplace=False)\n",
              "  )\n",
              "  (conv2): Sequential(\n",
              "    (0): Conv2d(1, 100, kernel_size=(4, 300), stride=(1, 1))\n",
              "    (1): BatchNorm2d(100, eps=1e-05, momentum=0.1, affine=True, track_running_stats=True)\n",
              "    (2): ReLU(inplace=True)\n",
              "    (3): Dropout2d(p=0.5, inplace=False)\n",
              "  )\n",
              "  (conv3): Sequential(\n",
              "    (0): Conv2d(1, 100, kernel_size=(5, 300), stride=(1, 1))\n",
              "    (1): BatchNorm2d(100, eps=1e-05, momentum=0.1, affine=True, track_running_stats=True)\n",
              "    (2): ReLU(inplace=True)\n",
              "    (3): Dropout2d(p=0.5, inplace=False)\n",
              "  )\n",
              "  (classifier): Sequential(\n",
              "    (0): Linear(in_features=300, out_features=6, bias=True)\n",
              "    (1): Dropout2d(p=0.5, inplace=False)\n",
              "  )\n",
              ")"
            ]
          },
          "metadata": {
            "tags": []
          },
          "execution_count": 23
        }
      ]
    },
    {
      "cell_type": "markdown",
      "metadata": {
        "id": "n91S4Gft5eUR"
      },
      "source": [
        "### FUNCTION FOR MODEL EVALUATION"
      ]
    },
    {
      "cell_type": "code",
      "metadata": {
        "id": "zb22HQ2Sb5w8"
      },
      "source": [
        "def evaluate_model(model, data_loader, criterion):\n",
        "    \n",
        "    model.eval()\n",
        "    \n",
        "    n_correct = 0\n",
        "    n_samples = 0\n",
        "\n",
        "    net_loss = 0\n",
        "    \n",
        "    with torch.no_grad():\n",
        "        for features, labels in data_loader:\n",
        "            features = features.to(device)\n",
        "            labels = labels.to(device)\n",
        "            \n",
        "            predictions = model(features)\n",
        "            \n",
        "            _, predicted = torch.max(predictions.data, 1)\n",
        "            n_samples += labels.size(0)\n",
        "            n_correct += (predicted == labels).sum().item()\n",
        "\n",
        "            loss = criterion(predictions, labels)\n",
        "            net_loss += loss.item()\n",
        "\n",
        "    acc = 100.0 * n_correct / n_samples\n",
        "    net_loss /= len(data_loader)\n",
        "\n",
        "    return acc, net_loss"
      ],
      "execution_count": null,
      "outputs": []
    },
    {
      "cell_type": "markdown",
      "metadata": {
        "id": "cPdOBXD3Q8iY"
      },
      "source": [
        "## TRAINING THE MODEL"
      ]
    },
    {
      "cell_type": "code",
      "metadata": {
        "id": "I_21XeckQrjP"
      },
      "source": [
        "n_total_steps = len(train_loader)\n",
        "\n",
        "loss_best_model = 100\n",
        "PATH = \"/content/drive/MyDrive/DL_A3/A3_P2_Models/best_model_840B_123.pt\"\n",
        "\n",
        "for epoch in range(num_epochs):\n",
        "    for features, labels in train_loader:\n",
        "        \n",
        "        features = features.to(device)\n",
        "        labels = labels.to(device)\n",
        "        \n",
        "        # Forward pass\n",
        "        predictions = model(features)\n",
        "        loss = criterion(predictions, labels)\n",
        "        \n",
        "        # Backward pass\n",
        "        optimizer.zero_grad()\n",
        "        loss.backward()\n",
        "        optimizer.step()\n",
        "    \n",
        "    with torch.no_grad():\n",
        "        model.eval()\n",
        "        val_acc, val_loss = evaluate_model(model, test_loader, criterion)\n",
        "        train_acc, train_loss = evaluate_model(model, train_loader, criterion)\n",
        "        \n",
        "        updated = \"\"\n",
        "\n",
        "        if val_loss < loss_best_model:\n",
        "            loss_best_model = val_loss\n",
        "            updated = \"++\"\n",
        "            torch.save({\n",
        "              'epoch': epoch,\n",
        "              'glove_dim': glove_dim,\n",
        "              'n_filters': n_filters,\n",
        "              'model_state_dict': model.state_dict(),\n",
        "              'optimizer_state_dict': optimizer.state_dict(),\n",
        "              'train_loss': train_loss,\n",
        "              'val_loss': val_loss,\n",
        "              'train_acc': train_acc,\n",
        "              'val_acc': val_acc,\n",
        "            }, PATH)\n",
        "\n",
        "        print (f'Epoch [{epoch+1}/{num_epochs}], Train-Loss: {train_loss:.4f}, Val-Loss: {val_loss:.4f}, Train-Acc: {train_acc:.2f} %, Val-Acc: {val_acc:.2f} % {updated}')\n",
        "        model.train()"
      ],
      "execution_count": null,
      "outputs": []
    },
    {
      "cell_type": "code",
      "metadata": {
        "id": "71ExBnBxakM_"
      },
      "source": [
        ""
      ],
      "execution_count": null,
      "outputs": []
    },
    {
      "cell_type": "markdown",
      "metadata": {
        "id": "PT3DhdBkUUoL"
      },
      "source": [
        "## EVALUATING THE BEST MODEL"
      ]
    },
    {
      "cell_type": "code",
      "metadata": {
        "colab": {
          "base_uri": "https://localhost:8080/"
        },
        "id": "LsWw6Y53DMDC",
        "outputId": "9edc6ebc-30fa-41cd-9c08-cbbf5dfda9a4"
      },
      "source": [
        "PATH = \"/content/drive/MyDrive/DL_A3/A3_P2_Models/best_model_840B.pt\"\n",
        "\n",
        "checkpoint = torch.load(PATH)\n",
        "\n",
        "model = CNN(checkpoint['glove_dim'], checkpoint['n_filters']).cuda()\n",
        "model.load_state_dict(checkpoint['model_state_dict'])\n",
        "\n",
        "epoch = checkpoint['epoch']\n",
        "train_loss = checkpoint['train_loss']\n",
        "val_loss = checkpoint['val_loss']\n",
        "train_acc = checkpoint['train_acc']\n",
        "val_acc = checkpoint['val_acc']\n",
        "print (f'Epochs={epoch+1}, Train-Loss: {train_loss:.4f}, Val-Loss: {val_loss:.4f}, Train-Acc: {train_acc:.2f} %, Val-Acc: {val_acc:.2f} %')"
      ],
      "execution_count": null,
      "outputs": [
        {
          "output_type": "stream",
          "text": [
            "Epochs=73, Train-Loss: 0.3062, Val-Loss: 0.4712, Train-Acc: 96.97 %, Val-Acc: 86.80 %\n"
          ],
          "name": "stdout"
        }
      ]
    },
    {
      "cell_type": "code",
      "metadata": {
        "colab": {
          "base_uri": "https://localhost:8080/"
        },
        "id": "t_XRV5SqMs-b",
        "outputId": "6d2899b1-e083-4f8a-db61-9f191d96eb58"
      },
      "source": [
        "model.eval()\n",
        "acc_, loss_ = evaluate_model(model, test_loader, criterion)\n",
        "print(f\"Test Acc: {acc_}, Test Loss: {loss_}\")"
      ],
      "execution_count": null,
      "outputs": [
        {
          "output_type": "stream",
          "text": [
            "Test Acc: 86.80109990834097, Test Loss: 0.47116268260611427\n"
          ],
          "name": "stdout"
        }
      ]
    },
    {
      "cell_type": "code",
      "metadata": {
        "id": "_vY9f5D12Rje",
        "colab": {
          "base_uri": "https://localhost:8080/"
        },
        "outputId": "f9de3c17-c8bd-4ba6-ce66-8a6e2cfa1f54"
      },
      "source": [
        "model.eval()\n",
        "acc_, loss_ = evaluate_model(model, train_loader, criterion)\n",
        "print(f\"Train Acc: {acc_}, Train Loss: {loss_}\")"
      ],
      "execution_count": null,
      "outputs": [
        {
          "output_type": "stream",
          "text": [
            "Train Acc: 96.9731712909883, Train Loss: 0.3057571647391803\n"
          ],
          "name": "stdout"
        }
      ]
    },
    {
      "cell_type": "markdown",
      "metadata": {
        "id": "EWkD9gtm_quG"
      },
      "source": [
        "### ROC, Confusion Matrix, F-measure"
      ]
    },
    {
      "cell_type": "code",
      "metadata": {
        "id": "EwEMhluAdNzy"
      },
      "source": [
        "model.eval()\n",
        "\n",
        "actual = []\n",
        "pred = []\n",
        "\n",
        "with torch.no_grad():\n",
        "  for features, labels in test_loader:\n",
        "    features = features.to(device)\n",
        "    labels = labels.to(device)\n",
        "    \n",
        "    predictions = model(features)\n",
        "    \n",
        "    pred.append(predictions)\n",
        "    actual.append(labels)\n",
        "\n",
        "pred = torch.cat(pred, dim=0).cpu()\n",
        "pred = nn.functional.softmax(pred, dim=1)\n",
        "actual = torch.cat(actual, dim=0).cpu().numpy()"
      ],
      "execution_count": null,
      "outputs": []
    },
    {
      "cell_type": "code",
      "metadata": {
        "colab": {
          "base_uri": "https://localhost:8080/",
          "height": 282
        },
        "id": "Fu6DrnVgANfV",
        "outputId": "1850e254-f9c1-497a-9cd8-2e8cfd1492bf"
      },
      "source": [
        "from sklearn.metrics import confusion_matrix\n",
        "import seaborn\n",
        "\n",
        "_, predicted = torch.max(pred.data, 1)\n",
        "cf = confusion_matrix(actual,predicted)\n",
        "\n",
        "seaborn.heatmap(cf, annot=True)"
      ],
      "execution_count": null,
      "outputs": [
        {
          "output_type": "execute_result",
          "data": {
            "text/plain": [
              "<matplotlib.axes._subplots.AxesSubplot at 0x7fdc810db510>"
            ]
          },
          "metadata": {
            "tags": []
          },
          "execution_count": 89
        },
        {
          "output_type": "display_data",
          "data": {
            "image/png": "[encoded data removed]",
            "text/plain": [
              "<Figure size 432x288 with 2 Axes>"
            ]
          },
          "metadata": {
            "tags": [],
            "needs_background": "light"
          }
        }
      ]
    },
    {
      "cell_type": "code",
      "metadata": {
        "colab": {
          "base_uri": "https://localhost:8080/"
        },
        "id": "os5MK2_-DXKn",
        "outputId": "819bf543-46f5-45c2-e00e-29264b7ba44f"
      },
      "source": [
        "from sklearn.metrics import f1_score, precision_score, recall_score\n",
        "print(\"Precision:\",precision_score(actual,predicted, average='macro'))\n",
        "print(\"Recall:\",recall_score(actual,predicted, average='macro'))\n",
        "print(\"F1:\",f1_score(actual,predicted, average='macro'))"
      ],
      "execution_count": null,
      "outputs": [
        {
          "output_type": "stream",
          "text": [
            "Precision: 0.8755153117223973\n",
            "Recall: 0.856761852800673\n",
            "F1: 0.8648600910240627\n"
          ],
          "name": "stdout"
        }
      ]
    },
    {
      "cell_type": "code",
      "metadata": {
        "colab": {
          "base_uri": "https://localhost:8080/",
          "height": 295
        },
        "id": "v42l4YEaB3w6",
        "outputId": "e4f2292d-cef1-479e-9929-8b3b1d81b354"
      },
      "source": [
        "from sklearn.metrics import roc_curve, auc\n",
        "from matplotlib import pyplot as plt\n",
        "\n",
        "with torch.no_grad():\n",
        "  preds = nn.functional.softmax(pred, dim=1)\n",
        "  preds = preds.numpy()\n",
        "\n",
        "  plt.plot([0, 1], [0, 1], linestyle='--', label='No Skill')\n",
        "\n",
        "  for c in range(6):\n",
        "    ypred = preds[:,c]\n",
        "    fpr, tpr, thresholds = roc_curve(actual, ypred, pos_label=c)\n",
        "    plt.plot(fpr, tpr, linewidth=2, label=labels_[c])\n",
        "  \n",
        "  plt.xlabel('False Positive Rate')\n",
        "  plt.ylabel('True Positive Rate')\n",
        "  plt.title('ROC Curve')\n",
        "  plt.legend()\n",
        "  plt.show()"
      ],
      "execution_count": null,
      "outputs": [
        {
          "output_type": "display_data",
          "data": {
            "image/png": "[encoded data removed]",
            "text/plain": [
              "<Figure size 432x288 with 1 Axes>"
            ]
          },
          "metadata": {
            "tags": [],
            "needs_background": "light"
          }
        }
      ]
    },
    {
      "cell_type": "code",
      "metadata": {
        "id": "WyRTxfKhFK89"
      },
      "source": [
        ""
      ],
      "execution_count": null,
      "outputs": []
    }
  ]
}