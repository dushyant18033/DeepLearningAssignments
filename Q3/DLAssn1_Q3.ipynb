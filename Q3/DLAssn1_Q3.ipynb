{
  "nbformat": 4,
  "nbformat_minor": 0,
  "metadata": {
    "colab": {
      "name": "DLAssn1-Q3.ipynb",
      "provenance": []
    },
    "kernelspec": {
      "name": "python3",
      "display_name": "Python 3"
    }
  },
  "cells": [
    {
      "cell_type": "code",
      "metadata": {
        "id": "6FKRzJIyw4X5"
      },
      "source": [
        "import numpy as np\n",
        "import matplotlib.pyplot as plt\n",
        "import pandas as pd\n",
        "import random\n"
      ],
      "execution_count": 1,
      "outputs": []
    },
    {
      "cell_type": "code",
      "metadata": {
        "id": "n8QeDQX6yCxm"
      },
      "source": [
        "def activation(x):\n",
        "  '''\n",
        "    input: a 1-D array x\n",
        "\n",
        "    output: sin of all values of array\n",
        "  '''\n",
        "  return np.sin(x)\n",
        "\n",
        "\n",
        "def predict(X,weights,bias):\n",
        "  '''\n",
        "    input:\n",
        "      1-D array X\n",
        "      weights of the perceptron\n",
        "      bias of the perceptron\n",
        "    output:\n",
        "      prediction of class\n",
        "  '''\n",
        "\n",
        "  z=X*weights+bias      \n",
        "  ans=activation(z)     # activation wixi +b\n",
        "  return ans\n",
        "\n",
        "\n",
        "\n",
        "\n",
        "def loss(X,y,weights,bias):\n",
        "  '''\n",
        "    input:\n",
        "      1-D array X\n",
        "      weights of the perceptron\n",
        "      bias of the perceptron\n",
        "    output:\n",
        "      Mean squared Error\n",
        "  '''\n",
        "\n",
        "  Y_=predict(X,weights,bias)    # get prediction\n",
        "  mse=0\n",
        "  for i in range(len(y)):\n",
        "    mse+=(Y_[i]-y[i])**2        #calculate MSE\n",
        "  return mse/(len(y))\n",
        "\n",
        "\n",
        "\n",
        "def update(X,y,weights,bias,lr):\n",
        "  '''\n",
        "    input:\n",
        "      1-D array X\n",
        "      weights of the perceptron\n",
        "      bias of the perceptron\n",
        "      1-D array y denoting actual results\n",
        "      lr: learning rate\n",
        "    output:\n",
        "      returns updated weight, bias\n",
        "  '''\n",
        "\n",
        "  Y_=predict(X,weights,bias)  \n",
        "  #Chain rule for Delta learning\n",
        "  #dC/dW=dC/dy * dy/dA * dA/dW\n",
        "  dw=(y-Y_)                       \n",
        "  grad=np.cos(X*weights+bias)\n",
        "\n",
        "  #Update weights\n",
        "  weights-=lr*np.mean(dw*grad*X)\n",
        "\n",
        "  #Update bias\n",
        "  bias-=lr*np.mean(dw*grad)\n",
        "\n",
        "  return weights,bias\n",
        "\n",
        "\n",
        "def train(X,y,lr=0.3,epochs=10000):\n",
        "  '''\n",
        "    input:\n",
        "      1-D array X\n",
        "      1-D array Y with actual results\n",
        "      lr: Learning rate\n",
        "      epochs: no of epochs\n",
        "    output:\n",
        "      returns weight,bias \n",
        "  '''\n",
        "\n",
        "  #Initialising weights, bias with random value\n",
        "  weights=random.uniform(1.2,2)\n",
        "  bias=random.uniform(1.2,2)\n",
        "\n",
        "  for i in range(epochs):\n",
        "    #Use update\n",
        "    weights,bias=update(X,y,weights,bias,lr)\n",
        "    if i%500==0:\n",
        "      #At every 500th epoch check prediction\n",
        "      print(predict(X,weights,bias).T)\n",
        "  return weights,bias\n",
        "\n",
        "\n",
        "def predict_answer(X,weights,bias):\n",
        "    '''\n",
        "    input:\n",
        "      single input x (!! not Array)\n",
        "      weights of the perceptron\n",
        "      bias of the perceptron\n",
        "    output:\n",
        "      prediction of class either 1 or -1 by setting threshold\n",
        "    '''\n",
        "    z=X*weights+bias\n",
        "    ans=activation(z)     #Calculate answer\n",
        "    \n",
        "    #Predict class by putting appropriate threshold\n",
        "    if ans>=0:\n",
        "      return -1\n",
        "    return 1\n",
        "\n"
      ],
      "execution_count": 2,
      "outputs": []
    },
    {
      "cell_type": "code",
      "metadata": {
        "id": "7E3FiTag1Tk8"
      },
      "source": [
        "X=np.array([0,2,4,6,8,10])\n",
        "y=np.array([-1,1,-1,1,-1,1])\n",
        "w,b=train(X,y,0.01)\n"
      ],
      "execution_count": null,
      "outputs": []
    },
    {
      "cell_type": "code",
      "metadata": {
        "colab": {
          "base_uri": "https://localhost:8080/"
        },
        "id": "DhV3cRXWZJsT",
        "outputId": "1e1111be-f420-4248-95c3-0945a30873aa"
      },
      "source": [
        "#Test data with given X\n",
        "\n",
        "for i in range(len(X)):\n",
        "  print(X[i],\"class:\",predict_answer(X[i],w,b))"
      ],
      "execution_count": 6,
      "outputs": [
        {
          "output_type": "stream",
          "text": [
            "0 class: -1\n",
            "2 class: 1\n",
            "4 class: -1\n",
            "6 class: 1\n",
            "8 class: -1\n",
            "10 class: 1\n"
          ],
          "name": "stdout"
        }
      ]
    },
    {
      "cell_type": "code",
      "metadata": {
        "colab": {
          "base_uri": "https://localhost:8080/"
        },
        "id": "zGVhF6oHIZiJ",
        "outputId": "c18a6689-a4fa-4b91-f785-4ffe81ac13e2"
      },
      "source": [
        "print(w,b)"
      ],
      "execution_count": 7,
      "outputs": [
        {
          "output_type": "stream",
          "text": [
            "1.5707963267948994 1.570796326794877\n"
          ],
          "name": "stdout"
        }
      ]
    },
    {
      "cell_type": "code",
      "metadata": {
        "colab": {
          "base_uri": "https://localhost:8080/",
          "height": 295
        },
        "id": "7iAOOS7HZg9p",
        "outputId": "6ef580c9-29e2-4981-d745-8089301efd77"
      },
      "source": [
        "x=np.linspace(0,10)\n",
        "y=np.sin(x*w + b)\n",
        "X_0=[0,4,8]\n",
        "X_1=[2,6,10]\n",
        "plt.scatter(X_0,np.zeros(3), c='red')\n",
        "plt.scatter(X_1,np.zeros(3), c='blue')\n",
        "plt.plot(x,y, c='green')\n",
        "plt.xlabel(\"X-axis\")\n",
        "plt.ylabel(\"Y-axis\")\n",
        "plt.title(\"Separating data\")\n",
        "plt.show()"
      ],
      "execution_count": 5,
      "outputs": [
        {
          "output_type": "display_data",
          "data": {
            "image/png": "[encoded data removed]",
            "text/plain": [
              "<Figure size 432x288 with 1 Axes>"
            ]
          },
          "metadata": {
            "tags": [],
            "needs_background": "light"
          }
        }
      ]
    }
  ]
}